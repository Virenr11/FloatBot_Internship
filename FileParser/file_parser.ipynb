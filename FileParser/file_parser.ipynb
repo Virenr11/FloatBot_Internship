{
 "cells": [
  {
   "cell_type": "markdown",
   "id": "355b3abf",
   "metadata": {},
   "source": [
    "# File Parser:\n",
    "\n",
    "### AIM : Create file parsers for NLP pipeline, that parses various file types, e.g. PDFs, DOCX, PPTs, XLSX, CSV, TSV, etc. and create logical chunks of each sections.\n"
   ]
  },
  {
   "cell_type": "markdown",
   "id": "376f1300",
   "metadata": {},
   "source": [
    "## Gathering Dependencies:"
   ]
  },
  {
   "cell_type": "code",
   "execution_count": 1,
   "id": "bd5c396c",
   "metadata": {},
   "outputs": [],
   "source": [
    "import argparse\n",
    "import pandas as pd\n",
    "import PyPDF2\n",
    "from pptx import Presentation\n",
    "from docx import Document\n",
    "from pptx import Presentation\n",
    "from pptx.util import Inches\n",
    "from pptx.enum.text import MSO_ANCHOR\n",
    "from pptx.enum.text import PP_ALIGN\n",
    "from pptx.dml.color import RGBColor\n",
    "from pptx.enum.dml import MSO_THEME_COLOR"
   ]
  },
  {
   "cell_type": "markdown",
   "id": "4f6337a8",
   "metadata": {},
   "source": [
    "## PDF Parser:"
   ]
  },
  {
   "cell_type": "code",
   "execution_count": 2,
   "id": "881b4b0b",
   "metadata": {},
   "outputs": [],
   "source": [
    "class PDFParser:\n",
    "    #Gathering data from the PDF file and performing initialization:\n",
    "    def __init__(self, file_path):\n",
    "        self.reader = PyPDF2.PdfReader(file_path)\n",
    "        self.chunks = []\n",
    "    \n",
    "    #Collecting logical chunks from the gathered data:\n",
    "    def parse_file(self):\n",
    "        for page in self.reader.pages:\n",
    "            text = page.extract_text()\n",
    "            paragraphs = text.split(\"\\n\\n\")\n",
    "\n",
    "            # Dealing with paragraphs:\n",
    "            for paragraph in paragraphs:\n",
    "                self.chunks.append({\"type\": \"paragraph\", \"text\": paragraph, \"order\": len(self.chunks)})\n",
    "\n",
    "            # Dealing with tables:\n",
    "            tables = tabula.read_pdf(io.StringIO(page.extract_text()), pages=1, lattice=True)\n",
    "            for table in tables:\n",
    "                headers = [col for col in table.columns]\n",
    "                data = table.values.tolist()\n",
    "                self.chunks.append({\"type\": \"table\", \"headers\": headers, \"data\": data, \"order\": len(self.chunks)})\n",
    "\n",
    "            # Dealing with images:\n",
    "            images = page.extract_images()\n",
    "            for image in images:\n",
    "                self.chunks.append({\"type\": \"image\", \"image\": image, \"order\": len(self.chunks)})\n",
    "\n",
    "        # Arranging logical chunks in correct order:\n",
    "        self.chunks = sorted(self.chunks, key=lambda x: x[\"order\"])\n",
    "        return self.chunks\n",
    "        \n",
    "        "
   ]
  },
  {
   "cell_type": "markdown",
   "id": "74ac1293",
   "metadata": {},
   "source": [
    "## DOCX Parser:"
   ]
  },
  {
   "cell_type": "code",
   "execution_count": 3,
   "id": "f900aa92",
   "metadata": {},
   "outputs": [],
   "source": [
    "class DocxParser:\n",
    "    #Gathering data from the csv file and performing initialization:\n",
    "    def __init__(self, file_path):\n",
    "        self.doc = Document(file_path)\n",
    "        self.chunks =[]\n",
    "        \n",
    "    #Collecting logical chunks from the gathered data: \n",
    "    def parse_file(self):\n",
    "        for para in self.doc.paragraphs:\n",
    "            if para.style.name.startswith('List'):\n",
    "                    self.chunks.append({'type': 'list', 'data': para.text})\n",
    "            else:\n",
    "                    self.chunks.append(para.text)\n",
    "        for table in self.doc.tables:\n",
    "            table_data = []\n",
    "            for row in table.rows:\n",
    "                row_data = []\n",
    "                for cell in row.cells:\n",
    "                    row_data.append(cell.text)\n",
    "                table_data.append(row_data)\n",
    "            self.chunks.append(table_data)\n",
    "        for img in self.doc.inline_shapes:\n",
    "            self.chunks.append({'type': 'image', 'data': img._inline.docx.blob})\n",
    "        return self.chunks"
   ]
  },
  {
   "cell_type": "markdown",
   "id": "43b366d5",
   "metadata": {},
   "source": [
    "## Presentation Parser:"
   ]
  },
  {
   "cell_type": "code",
   "execution_count": 4,
   "id": "cce72193",
   "metadata": {},
   "outputs": [],
   "source": [
    "class PPTParser:\n",
    "    def __init__(self, file_path):\n",
    "        self.presentation = Presentation(file_path)\n",
    "        self.chunks = []\n",
    "\n",
    "    def parse_file(self):\n",
    "        for slide in self.presentation.slides:\n",
    "            for shape in slide.shapes:\n",
    "                #dealing with paragraphs:\n",
    "                if shape.has_text_frame:\n",
    "                    text_frame = shape.text_frame\n",
    "                    text = ''\n",
    "                    for paragraph in text_frame.paragraphs:\n",
    "                        text += paragraph.text + '\\n'\n",
    "                    self.chunks.append({\"type\": \"paragraph\", \"text\": text, \"order\": len(self.chunks)})\n",
    "                \n",
    "                #Dealing with tables:\n",
    "                elif shape.shape_type == 19:  \n",
    "                    table = shape.table\n",
    "                    headers = [cell.text for cell in table.rows[0].cells]\n",
    "                    data = [[cell.text for cell in row.cells] for row in table.rows[1:]]\n",
    "                    self.chunks.append({\"type\": \"table\", \"headers\": headers, \"data\": data, \"order\": len(self.chunks)})\n",
    "                \n",
    "                #Dealing with images:\n",
    "                elif shape.shape_type == 13: \n",
    "                    image = shape.image\n",
    "                    self.chunks.append({\"type\": \"image\", \"image\": image, \"order\": len(self.chunks)})\n",
    "\n",
    "        # Arranging logical chunks in correct order:\n",
    "        self.chunks = sorted(self.chunks, key=lambda x: x[\"order\"])\n",
    "        return self.chunks"
   ]
  },
  {
   "cell_type": "markdown",
   "id": "15270a84",
   "metadata": {},
   "source": [
    "## CSV Parser:"
   ]
  },
  {
   "cell_type": "code",
   "execution_count": 5,
   "id": "144cd129",
   "metadata": {},
   "outputs": [],
   "source": [
    "class CSVParser:\n",
    "    #Gathering data from the csv file and performing initialization: \n",
    "    def __init__(self, file_path):\n",
    "        self.dataframe = pd.read_csv(file_path)\n",
    "        self.chunks = dict()\n",
    "    \n",
    "    #Collecting logical chunks from the gathered data:\n",
    "    def parse_file(self):\n",
    "        for i in self.dataframe.columns:\n",
    "            self.chunks[i] = self.dataframe[i].tolist()\n",
    "        self.chunks[\"dataframe\"] = self.dataframe\n",
    "        return self.chunks"
   ]
  },
  {
   "cell_type": "markdown",
   "id": "85a0f25e",
   "metadata": {},
   "source": [
    "## TSV Parser:"
   ]
  },
  {
   "cell_type": "code",
   "execution_count": 6,
   "id": "f9d4255d",
   "metadata": {},
   "outputs": [],
   "source": [
    "class TSVParser:\n",
    "    #Gathering data from the tsv file and performing initialization:\n",
    "    def __init__(self, file_path):\n",
    "        self.dataframe = pd.read_csv(file_path, delimiter = \"\\t\")\n",
    "        self.chunks = dict() \n",
    "    \n",
    "    #Collecting logical chunks from the gathered data:    \n",
    "    def parse_file(self):\n",
    "        for i in self.dataframe.columns:\n",
    "            self.chunks[i] = self.dataframe[i].tolist()\n",
    "            self.chunks[\"dataframe\"] = self.dataframe\n",
    "        return self.chunks"
   ]
  },
  {
   "cell_type": "markdown",
   "id": "eb947472",
   "metadata": {},
   "source": [
    "## File Parser:"
   ]
  },
  {
   "cell_type": "code",
   "execution_count": null,
   "id": "96187eb8",
   "metadata": {},
   "outputs": [
    {
     "name": "stdout",
     "output_type": "stream",
     "text": [
      "File Parser Menu\n",
      "----------------\n",
      "1. Select File\n",
      "2. Parse File\n",
      "3. Exit\n"
     ]
    }
   ],
   "source": [
    "class FileParser:\n",
    "    def __init__(self):\n",
    "        self.file_path = \"\"\n",
    "        self.file_type = \"\"\n",
    "\n",
    "    def display_menu(self):\n",
    "        print(\"File Parser Menu\")\n",
    "        print(\"----------------\")\n",
    "        print(\"1. Select File\")\n",
    "        print(\"2. Parse File\")\n",
    "        print(\"3. Exit\")\n",
    "\n",
    "    def select_file(self):\n",
    "        self.file_path = input(\"Enter the file path: \")\n",
    "        self.file_type = input(\"Enter the file type ( csv, tsv, pdf, ppt, docx): \")\n",
    "\n",
    "        if self.file_type not in [\"csv\", \"tsv\", \"pdf\", \"ppt\", \"docx\"]:\n",
    "            print(\"Error: Unsupported file type\")\n",
    "            return False\n",
    "        else:\n",
    "            print(\"File selected successfully\")\n",
    "            return True\n",
    "\n",
    "    def parse_file(self):\n",
    "        \n",
    "        if self.file_path == \"\" or self.file_type == \"\":\n",
    "            print(\"Error: Please select a file first\")\n",
    "            return\n",
    "\n",
    "        print(\"Checking file type...\")\n",
    "        \n",
    "        if self.file_type == \"csv\":\n",
    "            if not self.file_path.endswith(\".csv\"):\n",
    "                print(\"Error: File type does not match the file extension\")\n",
    "            else:\n",
    "                print(\"File type matches the file extension\")\n",
    "                csv = CSVParser(self.file_path)\n",
    "                logical_chunks = csv.parse_file()\n",
    "                print(\"Parsing csv file...\")\n",
    "                print(logical_chunks)\n",
    "                \n",
    "        elif self.file_type == \"tsv\":\n",
    "            if not self.file_path.endswith(\".tsv\"):\n",
    "                print(\"Error: File type does not match the file extension\")\n",
    "            else:\n",
    "                print(\"File type matches the file extension\")\n",
    "                tsv = TSVParser(self.file_path)\n",
    "                logical_chunks = tsv.parse_file()\n",
    "                print(\"Parsing tsv file...\")\n",
    "                print(logical_chunks)\n",
    "                \n",
    "        elif self.file_type == \"pdf\":\n",
    "            if not self.file_path.endswith(\".pdf\"):\n",
    "                print(\"Error: File type does not match the file extension\")\n",
    "            else:\n",
    "                print(\"File type matches the file extension\")\n",
    "                pdf = PDFParser(self.file_path)\n",
    "                logical_chunks = pdf.parse_file()\n",
    "                print(\"Parsing pdf file...\")\n",
    "                print(logical_chunks)\n",
    "                \n",
    "        elif self.file_type == \"ppt\":\n",
    "            if not self.file_path.endswith(\".pptx\"):\n",
    "                print(\"Error: File type does not match the file extension\")\n",
    "            else:\n",
    "                print(\"File type matches the file extension\")\n",
    "                ppt = PPTParser(self.file_path)\n",
    "                logical_chunks = ppt.parse_file()\n",
    "                print(\"Parsing pptx file...\")\n",
    "                print(logical_chunks)\n",
    "                \n",
    "        elif self.file_type == \"docx\":\n",
    "            if not self.file_path.endswith(\".docx\"):\n",
    "                print(\"Error: File type does not match the file extension\")\n",
    "            else:\n",
    "                print(\"File type matches the file extension\")\n",
    "                docx = DocxParser(self.file_path)\n",
    "                logical_chunks = docx.parse_file()\n",
    "                print(\"Parsing docx file...\")\n",
    "                print(logical_chunks)\n",
    "                \n",
    "    def run(self):\n",
    "        while True:\n",
    "            self.display_menu()\n",
    "            choice = input(\"Enter your choice: \")\n",
    "            if choice == \"1\":\n",
    "                self.select_file()\n",
    "            elif choice == \"2\":\n",
    "                self.parse_file()\n",
    "            elif choice == \"3\":\n",
    "                print(\"Exiting...\")\n",
    "                break\n",
    "            else:\n",
    "                print(\"Invalid choice. Please try again.\")\n",
    "\n",
    "if __name__ == \"__main__\":\n",
    "    file_parser = FileParser()\n",
    "    file_parser.run()"
   ]
  },
  {
   "cell_type": "code",
   "execution_count": null,
   "id": "f86f3f51",
   "metadata": {},
   "outputs": [],
   "source": []
  }
 ],
 "metadata": {
  "kernelspec": {
   "display_name": "Python 3 (ipykernel)",
   "language": "python",
   "name": "python3"
  },
  "language_info": {
   "codemirror_mode": {
    "name": "ipython",
    "version": 3
   },
   "file_extension": ".py",
   "mimetype": "text/x-python",
   "name": "python",
   "nbconvert_exporter": "python",
   "pygments_lexer": "ipython3",
   "version": "3.11.5"
  }
 },
 "nbformat": 4,
 "nbformat_minor": 5
}
